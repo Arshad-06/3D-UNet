{
  "cells": [
    {
      "cell_type": "markdown",
      "metadata": {
        "id": "HMIG5gOwa-Nb"
      },
      "source": [
        "**Import Libraries**\n"
      ]
    },
    {
      "cell_type": "code",
      "execution_count": 1,
      "metadata": {
        "id": "spA2vbr3a0j7"
      },
      "outputs": [
        {
          "name": "stderr",
          "output_type": "stream",
          "text": [
            "2024-03-04 14:49:39.333688: E external/local_xla/xla/stream_executor/cuda/cuda_dnn.cc:9261] Unable to register cuDNN factory: Attempting to register factory for plugin cuDNN when one has already been registered\n",
            "2024-03-04 14:49:39.333727: E external/local_xla/xla/stream_executor/cuda/cuda_fft.cc:607] Unable to register cuFFT factory: Attempting to register factory for plugin cuFFT when one has already been registered\n",
            "2024-03-04 14:49:39.334937: E external/local_xla/xla/stream_executor/cuda/cuda_blas.cc:1515] Unable to register cuBLAS factory: Attempting to register factory for plugin cuBLAS when one has already been registered\n",
            "2024-03-04 14:49:39.342134: I tensorflow/core/platform/cpu_feature_guard.cc:182] This TensorFlow binary is optimized to use available CPU instructions in performance-critical operations.\n",
            "To enable the following instructions: AVX2 FMA, in other operations, rebuild TensorFlow with the appropriate compiler flags.\n",
            "2024-03-04 14:49:40.320145: W tensorflow/compiler/tf2tensorrt/utils/py_utils.cc:38] TF-TRT Warning: Could not find TensorRT\n"
          ]
        }
      ],
      "source": [
        "import numpy as np\n",
        "import nibabel as nib\n",
        "import matplotlib.pyplot as plt\n",
        "import tensorflow as tf\n",
        "import os\n",
        "from os.path import join, basename\n",
        "import os.path\n",
        "from tensorflow import keras\n",
        "from tensorflow.keras.models import Model\n",
        "from tensorflow.keras.layers import (\n",
        "    Input,\n",
        "    Conv3D,\n",
        "    MaxPooling3D,\n",
        "    UpSampling3D,\n",
        "    concatenate,\n",
        "    Activation,\n",
        ")\n",
        "import cv2"
      ]
    },
    {
      "cell_type": "markdown",
      "metadata": {
        "id": "IEFUu8FjYvaz"
      },
      "source": [
        "**Define Parameters**\n"
      ]
    },
    {
      "cell_type": "code",
      "execution_count": 2,
      "metadata": {
        "id": "eerKWEtxUg_x"
      },
      "outputs": [],
      "source": [
        "tf.config.set_visible_devices([], \"GPU\")\n",
        "FNAME_PATTERN = \"./\"\n",
        "N_VOLUMES = 10\n",
        "IMAGE_SIZE = (256, 128, 256)\n",
        "\n",
        "N_CLASSES = 5\n",
        "N_INPUT_CHANNELS = 1\n",
        "PATCH_SIZE = (64, 64, 64)\n",
        "PATCH_STRIDE = (32, 32, 32)\n",
        "\n",
        "CONTENT_THRESHOLD = 0.3\n",
        "\n",
        "N_EPOCHS = 50\n",
        "BATCH_SIZE = 1\n",
        "PATIENCE = 10\n",
        "MODEL_FNAME_PATTERN = \"residual.h5\"\n",
        "OPTIMISER = \"Adam\"\n",
        "LOSS = \"categorical_crossentropy\""
      ]
    },
    {
      "cell_type": "markdown",
      "metadata": {},
      "source": [
        "**Model Definition**\n"
      ]
    },
    {
      "cell_type": "code",
      "execution_count": 3,
      "metadata": {},
      "outputs": [],
      "source": [
        "# Define the residual unit function\n",
        "def residual_unit(inputs, out_filters, strides=(1, 1, 1), activation=\"relu\"):\n",
        "    x = Conv3D(out_filters, (3, 3, 3), strides=strides, padding=\"same\")(inputs)\n",
        "    x = Activation(activation)(x)\n",
        "    x = Conv3D(out_filters, (3, 3, 3), padding=\"same\")(x)\n",
        "    shortcut = Conv3D(out_filters, (1, 1, 1), strides=strides, padding=\"same\")(inputs)\n",
        "    x = tf.keras.layers.add([x, shortcut])\n",
        "    x = Activation(activation)(x)\n",
        "    return x"
      ]
    },
    {
      "cell_type": "code",
      "execution_count": 4,
      "metadata": {
        "id": "Qo7ls49UTdHS"
      },
      "outputs": [],
      "source": [
        "# Define the upsample and concatenate function\n",
        "def upsample_and_concat(x1, x2):\n",
        "    x1 = UpSampling3D(size=(2, 2, 2))(x1)\n",
        "    return concatenate([x2, x1], axis=-1)"
      ]
    },
    {
      "cell_type": "code",
      "execution_count": 5,
      "metadata": {},
      "outputs": [],
      "source": [
        "def residual_unet_3d(input_shape, num_classes):\n",
        "    inputs = Input(input_shape)\n",
        "\n",
        "    # Encoder\n",
        "    conv1 = residual_unit(inputs, 16)\n",
        "    pool1 = MaxPooling3D(pool_size=(2, 2, 2))(conv1)\n",
        "\n",
        "    conv2 = residual_unit(pool1, 32)\n",
        "    pool2 = MaxPooling3D(pool_size=(2, 2, 2))(conv2)\n",
        "\n",
        "    conv3 = residual_unit(pool2, 64)\n",
        "    pool3 = MaxPooling3D(pool_size=(2, 2, 2))(conv3)\n",
        "\n",
        "    conv4 = residual_unit(pool3, 128)\n",
        "\n",
        "    # Decoder\n",
        "    up5 = upsample_and_concat(conv4, conv3)\n",
        "    conv5 = residual_unit(up5, 64)\n",
        "\n",
        "    up6 = upsample_and_concat(conv5, conv2)\n",
        "    conv6 = residual_unit(up6, 32)\n",
        "\n",
        "    up7 = upsample_and_concat(conv6, conv1)\n",
        "    conv7 = residual_unit(up7, 16)\n",
        "\n",
        "    # Output layer\n",
        "    output = Conv3D(num_classes, (1, 1, 1), activation=\"softmax\")(conv7)\n",
        "\n",
        "    model = Model(inputs=inputs, outputs=output)\n",
        "    return model"
      ]
    },
    {
      "cell_type": "markdown",
      "metadata": {},
      "source": [
        "**Load Data**\n"
      ]
    },
    {
      "cell_type": "code",
      "execution_count": 6,
      "metadata": {
        "id": "0mnj3JDme9gS"
      },
      "outputs": [],
      "source": [
        "def load_data(n_volumes, image_size, data_path):\n",
        "    data_traces = os.listdir(data_path)\n",
        "    T1_volumes = np.zeros((n_volumes, *image_size, 1))\n",
        "    labels = np.zeros((n_volumes, *image_size, 1))\n",
        "    x = 0\n",
        "    for i in enumerate(data_traces):\n",
        "        print(i[1])\n",
        "\n",
        "        img_data = nib.load(\n",
        "            data_path + \"/\" + f\"{i[1]}\" + \"/\" + f\"{i[1]}_5labels_preprocessed.nii.gz\"\n",
        "        )\n",
        "        # img_data = nib.load(fname_pattern.format(i+1, 'T1'))\n",
        "        T1_volumes[x] = img_data.get_fdata()\n",
        "\n",
        "        seg_data = nib.load(\n",
        "            data_path\n",
        "            + \"/\"\n",
        "            + f\"{i[1]}\"\n",
        "            + \"/\"\n",
        "            + f\"{i[1]}_5labels_preprocessed_seg.nii.gz\"\n",
        "        )\n",
        "        labels[x] = seg_data.get_fdata()\n",
        "        x = x + 1\n",
        "\n",
        "    return (T1_volumes, labels)"
      ]
    },
    {
      "cell_type": "code",
      "execution_count": 7,
      "metadata": {
        "colab": {
          "base_uri": "https://localhost:8080/"
        },
        "id": "_17931FqCqZ6",
        "outputId": "731ffefc-99d3-45e1-82db-ac52912af262"
      },
      "outputs": [
        {
          "name": "stdout",
          "output_type": "stream",
          "text": [
            "IBSR_16\n",
            "IBSR_04\n",
            "IBSR_08\n",
            "IBSR_03\n",
            "IBSR_06\n",
            "IBSR_01\n",
            "IBSR_07\n"
          ]
        }
      ],
      "source": [
        "(training_volumes_T1, training_labels) = load_data(7, IMAGE_SIZE, \"./data/train\")"
      ]
    },
    {
      "cell_type": "code",
      "execution_count": 8,
      "metadata": {
        "colab": {
          "base_uri": "https://localhost:8080/"
        },
        "id": "qbaTRL_Tg5-_",
        "outputId": "3c4177c6-8d70-417d-bc22-797fb8a2cfd0"
      },
      "outputs": [
        {
          "name": "stdout",
          "output_type": "stream",
          "text": [
            "IBSR_18\n",
            "IBSR_09\n",
            "IBSR_05\n"
          ]
        }
      ],
      "source": [
        "(validation_volumes_T1, validation_labels) = load_data(3, IMAGE_SIZE, \"./data/val\")"
      ]
    },
    {
      "cell_type": "code",
      "execution_count": 9,
      "metadata": {
        "colab": {
          "base_uri": "https://localhost:8080/"
        },
        "id": "d2VyXN3ZM-Mv",
        "outputId": "1e903e29-36f6-4c38-9c30-4499820ca71e"
      },
      "outputs": [
        {
          "name": "stdout",
          "output_type": "stream",
          "text": [
            "IBSR_13\n",
            "IBSR_12\n",
            "IBSR_14\n",
            "IBSR_11\n",
            "IBSR_17\n"
          ]
        }
      ],
      "source": [
        "(testing_volumes_T1, testing_labels) = load_data(5, IMAGE_SIZE, \"./data/test\")"
      ]
    },
    {
      "cell_type": "markdown",
      "metadata": {
        "id": "BFDtzyW6FH7x"
      },
      "source": [
        "**Extract Useful Patches**\n"
      ]
    },
    {
      "cell_type": "code",
      "execution_count": 10,
      "metadata": {
        "id": "v4qyfiRaf7n2"
      },
      "outputs": [],
      "source": [
        "def extract_patches(x, patch_size, patch_stride):\n",
        "    spatial_patch_size = [1, *patch_size, 1]\n",
        "    spatial_patch_stride = [1, *patch_stride, 1]\n",
        "\n",
        "    return tf.extract_volume_patches(\n",
        "        x,\n",
        "        ksizes=spatial_patch_size,\n",
        "        strides=spatial_patch_stride,\n",
        "        padding=\"SAME\",\n",
        "        name=None,\n",
        "    )"
      ]
    },
    {
      "cell_type": "code",
      "execution_count": 11,
      "metadata": {
        "id": "nsKNTm-Lf-sb"
      },
      "outputs": [],
      "source": [
        "def extract_useful_patches(\n",
        "    volumes,\n",
        "    labels,\n",
        "    image_size=IMAGE_SIZE,\n",
        "    patch_size=PATCH_SIZE,\n",
        "    stride=PATCH_STRIDE,\n",
        "    threshold=CONTENT_THRESHOLD,\n",
        "    num_classes=N_CLASSES,\n",
        "):\n",
        "    volumes = volumes.reshape([-1, image_size[0], image_size[1], image_size[2], 1])\n",
        "    labels = labels.reshape([-1, image_size[0], image_size[1], image_size[2], 1])\n",
        "    print(volumes.shape)\n",
        "\n",
        "    vol_patches = extract_patches(volumes, patch_size, stride).numpy()\n",
        "    seg_patches = extract_patches(labels, patch_size, stride).numpy()\n",
        "\n",
        "    vol_patches = vol_patches.reshape([-1, *patch_size, 1])\n",
        "    seg_patches = seg_patches.reshape([-1, *patch_size])\n",
        "    print(vol_patches.shape)\n",
        "    print(seg_patches.shape)\n",
        "\n",
        "    foreground_mask = seg_patches != 0\n",
        "\n",
        "    useful_patches = foreground_mask.sum(axis=(1, 2, 3)) > threshold * np.prod(\n",
        "        patch_size\n",
        "    )\n",
        "\n",
        "    vol_patches = vol_patches[useful_patches]\n",
        "    seg_patches = seg_patches[useful_patches]\n",
        "    print(seg_patches.shape[0])\n",
        "\n",
        "    seg_patches = tf.keras.utils.to_categorical(\n",
        "        seg_patches, num_classes=N_CLASSES, dtype=\"float32\"\n",
        "    )\n",
        "\n",
        "    return (vol_patches, seg_patches)"
      ]
    },
    {
      "cell_type": "code",
      "execution_count": null,
      "metadata": {
        "colab": {
          "base_uri": "https://localhost:8080/"
        },
        "id": "92C3sTe7fzNP",
        "outputId": "3f775cb1-10c4-41b0-dc11-27f58b65e0df"
      },
      "outputs": [],
      "source": [
        "(training_patches_T1, training_patches_seg) = extract_useful_patches(\n",
        "    training_volumes_T1, training_labels\n",
        ")\n",
        "(validation_patches_T1, validation_patches_seg) = extract_useful_patches(\n",
        "    validation_volumes_T1, validation_labels\n",
        ")"
      ]
    },
    {
      "cell_type": "markdown",
      "metadata": {
        "id": "0K_iI4dHn_yq"
      },
      "source": [
        "**Train Network**\n"
      ]
    },
    {
      "cell_type": "code",
      "execution_count": null,
      "metadata": {
        "colab": {
          "base_uri": "https://localhost:8080/"
        },
        "id": "R31r7MJLwKLr",
        "outputId": "3e6bbb76-9481-4954-9fff-2e1c10c71665"
      },
      "outputs": [],
      "source": [
        "my_callbacks = [\n",
        "    tf.keras.callbacks.EarlyStopping(monitor=\"val_loss\", patience=3),\n",
        "    tf.keras.callbacks.ModelCheckpoint(\n",
        "        filepath=MODEL_FNAME_PATTERN, save_best_only=True\n",
        "    ),\n",
        "]\n",
        "\n",
        "model = residual_unet_3d(training_patches_T1[0].shape, N_CLASSES)\n",
        "model.compile(optimizer=OPTIMISER, loss=LOSS)\n",
        "model.fit(\n",
        "    x=training_patches_T1,\n",
        "    y=training_patches_seg,\n",
        "    validation_data=(validation_patches_T1, validation_patches_seg),\n",
        "    batch_size=BATCH_SIZE,\n",
        "    epochs=N_EPOCHS,\n",
        "    callbacks=my_callbacks,\n",
        "    verbose=1,\n",
        ")"
      ]
    },
    {
      "cell_type": "markdown",
      "metadata": {
        "id": "XGcfrZCMjz4M"
      },
      "source": [
        "**Load Best Model**\n"
      ]
    },
    {
      "cell_type": "code",
      "execution_count": 12,
      "metadata": {
        "id": "5fNsYJL7KnON"
      },
      "outputs": [],
      "source": [
        "model = residual_unet_3d(\n",
        "    input_shape=(IMAGE_SIZE[0], IMAGE_SIZE[1], IMAGE_SIZE[2], 1),\n",
        "    num_classes=N_CLASSES,\n",
        ")\n",
        "model.compile(optimizer=OPTIMISER, loss=LOSS)\n",
        "model.load_weights(\"3d_model.h5\")"
      ]
    },
    {
      "cell_type": "code",
      "execution_count": 13,
      "metadata": {
        "id": "U-eEtbOCl185"
      },
      "outputs": [],
      "source": [
        "testing_volumes_T1_processed = testing_volumes_T1.reshape(\n",
        "    [-1, IMAGE_SIZE[0], IMAGE_SIZE[1], IMAGE_SIZE[2], 1]\n",
        ")\n",
        "testing_labels_processed = testing_labels.reshape(\n",
        "    [-1, IMAGE_SIZE[0], IMAGE_SIZE[1], IMAGE_SIZE[2], 1]\n",
        ")\n",
        "\n",
        "testing_labels_processed = tf.keras.utils.to_categorical(\n",
        "    testing_labels_processed, num_classes=5, dtype=\"float32\"\n",
        ")"
      ]
    },
    {
      "cell_type": "markdown",
      "metadata": {
        "id": "xF4ZYcYDqJnN"
      },
      "source": [
        "**Predict Labels For Test Data**\n"
      ]
    },
    {
      "cell_type": "code",
      "execution_count": 14,
      "metadata": {},
      "outputs": [
        {
          "name": "stdout",
          "output_type": "stream",
          "text": [
            "(256, 128, 256, 1)\n"
          ]
        }
      ],
      "source": [
        "print(testing_volumes_T1[0].shape)"
      ]
    },
    {
      "cell_type": "code",
      "execution_count": 15,
      "metadata": {},
      "outputs": [
        {
          "name": "stdout",
          "output_type": "stream",
          "text": [
            "5/5 [==============================] - 35s 7s/step\n",
            "(5, 256, 128, 256, 5)\n"
          ]
        }
      ],
      "source": [
        "prediction = model.predict(x=testing_volumes_T1_processed, batch_size=1)\n",
        "print(prediction.shape)\n",
        "\n",
        "# prediction = np.argmax(prediction, axis=3)\n",
        "# print(prediction.shape)\n",
        "# plt.imshow(prediction[128, :, :])"
      ]
    },
    {
      "cell_type": "code",
      "execution_count": 29,
      "metadata": {},
      "outputs": [
        {
          "data": {
            "text/plain": [
              "(256, 128, 256)"
            ]
          },
          "execution_count": 29,
          "metadata": {},
          "output_type": "execute_result"
        }
      ],
      "source": [
        "pred1 = prediction[1]\n",
        "pred1 = np.argmax(pred1, axis=3)\n",
        "pred1.shape"
      ]
    },
    {
      "cell_type": "code",
      "execution_count": 30,
      "metadata": {},
      "outputs": [
        {
          "data": {
            "text/plain": [
              "<matplotlib.image.AxesImage at 0x7f518c27d750>"
            ]
          },
          "execution_count": 30,
          "metadata": {},
          "output_type": "execute_result"
        },
        {
          "data": {
            "image/png": "[encoded data removed]",
            "text/plain": [
              "<Figure size 640x480 with 1 Axes>"
            ]
          },
          "metadata": {},
          "output_type": "display_data"
        }
      ],
      "source": [
        "plt.imshow(pred1[128, :, :])"
      ]
    },
    {
      "cell_type": "code",
      "execution_count": 31,
      "metadata": {
        "colab": {
          "base_uri": "https://localhost:8080/",
          "height": 236
        },
        "id": "K_irAeBKv2wk",
        "outputId": "1c9200f8-f241-43c2-b9d8-7eaa374b40f8"
      },
      "outputs": [
        {
          "data": {
            "text/plain": [
              "<matplotlib.image.AxesImage at 0x7f518c28edd0>"
            ]
          },
          "execution_count": 31,
          "metadata": {},
          "output_type": "execute_result"
        },
        {
          "data": {
            "image/png": "[encoded data removed]",
            "text/plain": [
              "<Figure size 640x480 with 1 Axes>"
            ]
          },
          "metadata": {},
          "output_type": "display_data"
        }
      ],
      "source": [
        "plt.imshow(np.squeeze(testing_labels[1][128, :, :]))"
      ]
    },
    {
      "cell_type": "markdown",
      "metadata": {},
      "source": [
        "**Dice & IOU Score Evaluation**\n"
      ]
    },
    {
      "cell_type": "code",
      "execution_count": 19,
      "metadata": {
        "id": "zCUtevyd7nKz"
      },
      "outputs": [],
      "source": [
        "def compute_dice_iou(prediction, labels):\n",
        "    prediction = prediction.squeeze()\n",
        "    labels = labels.squeeze()\n",
        "    dice = []\n",
        "    iou = []\n",
        "    for c in np.unique(prediction):\n",
        "        intersection = np.logical_and(prediction == c, labels == c).sum()\n",
        "        sum = (prediction == c).sum() + (labels == c).sum()\n",
        "        union = sum - intersection\n",
        "        dice.append(2 * intersection / sum)\n",
        "        iou.append(intersection / union)\n",
        "    return dice, iou"
      ]
    },
    {
      "cell_type": "code",
      "execution_count": 20,
      "metadata": {
        "colab": {
          "base_uri": "https://localhost:8080/"
        },
        "id": "w00PRjuLhL6n",
        "outputId": "d897e8c4-8283-48ad-dfce-ad082f345ad7"
      },
      "outputs": [
        {
          "name": "stdout",
          "output_type": "stream",
          "text": [
            "5/5 [==============================] - 35s 7s/step\n"
          ]
        }
      ],
      "source": [
        "dice_background = []\n",
        "iou_background = []\n",
        "\n",
        "dice_csf = []\n",
        "iou_csf = []\n",
        "\n",
        "dice_wm = []\n",
        "iou_wm = []\n",
        "dice_gm = []\n",
        "iou_gm = []\n",
        "dices = []\n",
        "ious = []\n",
        "\n",
        "prediction = model.predict(x=testing_volumes_T1, batch_size=1)\n",
        "for i in range(5):\n",
        "\n",
        "    pred = prediction[i]\n",
        "    pred = np.argmax(pred, axis=3)\n",
        "    dices, ious = compute_dice_iou(pred, testing_labels[i])\n",
        "\n",
        "    dice_background.append(dices[0])\n",
        "    dice_csf.append(dices[1])\n",
        "    dice_wm.append(dices[2])\n",
        "    dice_gm.append(dices[3])\n",
        "\n",
        "    iou_background.append(ious[0])\n",
        "    iou_csf.append(ious[1])\n",
        "    iou_wm.append(ious[2])\n",
        "    iou_gm.append(ious[3])"
      ]
    },
    {
      "cell_type": "code",
      "execution_count": 21,
      "metadata": {},
      "outputs": [
        {
          "data": {
            "text/plain": [
              "[0.8041432887354337,\n",
              " 0.7792736586326919,\n",
              " 0.8614507737681015,\n",
              " 0.85724040384334,\n",
              " 0.9004157592555929]"
            ]
          },
          "execution_count": 21,
          "metadata": {},
          "output_type": "execute_result"
        }
      ],
      "source": [
        "dice_csf"
      ]
    },
    {
      "cell_type": "code",
      "execution_count": 22,
      "metadata": {},
      "outputs": [
        {
          "data": {
            "text/plain": [
              "[0.9077791522989653,\n",
              " 0.9104715662131132,\n",
              " 0.9375927668252103,\n",
              " 0.9172618932041079,\n",
              " 0.9289607563638125]"
            ]
          },
          "execution_count": 22,
          "metadata": {},
          "output_type": "execute_result"
        }
      ],
      "source": [
        "dice_wm"
      ]
    },
    {
      "cell_type": "code",
      "execution_count": 23,
      "metadata": {},
      "outputs": [
        {
          "data": {
            "text/plain": [
              "[0.864494811763774,\n",
              " 0.9067627399667052,\n",
              " 0.9224664850430232,\n",
              " 0.9092457021610818,\n",
              " 0.9029153214339484]"
            ]
          },
          "execution_count": 23,
          "metadata": {},
          "output_type": "execute_result"
        }
      ],
      "source": [
        "dice_gm"
      ]
    },
    {
      "cell_type": "code",
      "execution_count": 24,
      "metadata": {},
      "outputs": [
        {
          "data": {
            "text/plain": [
              "[0.6724411722246283,\n",
              " 0.6383688401119002,\n",
              " 0.7566214564293614,\n",
              " 0.7501493811352966,\n",
              " 0.8188692833993518]"
            ]
          },
          "execution_count": 24,
          "metadata": {},
          "output_type": "execute_result"
        }
      ],
      "source": [
        "iou_csf"
      ]
    },
    {
      "cell_type": "code",
      "execution_count": 25,
      "metadata": {},
      "outputs": [
        {
          "data": {
            "text/plain": [
              "[0.8311315007488713,\n",
              " 0.8356565445920272,\n",
              " 0.8825173036740379,\n",
              " 0.8471687543338878,\n",
              " 0.8673452087618961]"
            ]
          },
          "execution_count": 25,
          "metadata": {},
          "output_type": "execute_result"
        }
      ],
      "source": [
        "iou_wm"
      ]
    },
    {
      "cell_type": "code",
      "execution_count": 26,
      "metadata": {},
      "outputs": [
        {
          "data": {
            "text/plain": [
              "[0.7613305696177303,\n",
              " 0.8294290481272926,\n",
              " 0.8560907593485433,\n",
              " 0.8335935086045918,\n",
              " 0.8230133362304421]"
            ]
          },
          "execution_count": 26,
          "metadata": {},
          "output_type": "execute_result"
        }
      ],
      "source": [
        "iou_gm"
      ]
    },
    {
      "cell_type": "code",
      "execution_count": 27,
      "metadata": {
        "colab": {
          "base_uri": "https://localhost:8080/"
        },
        "id": "lfai7Z3RsesD",
        "outputId": "ae4b1876-870a-48a0-f79d-2b490db91f39"
      },
      "outputs": [
        {
          "name": "stdout",
          "output_type": "stream",
          "text": [
            "Dice Background : 0.997255969817845\n",
            "Dice CSF : 0.840504776847032\n",
            "Dice WM : 0.9204132269810419\n",
            "Dice GM : 0.9011770120737065\n"
          ]
        }
      ],
      "source": [
        "print(f\"Dice Background : {np.average(np.array(dice_background))}\")\n",
        "print(f\"Dice CSF : {np.average(np.array(dice_csf))}\")\n",
        "print(f\"Dice WM : {np.average(np.array(dice_wm))}\")\n",
        "print(f\"Dice GM : {np.average(np.array(dice_gm))}\")"
      ]
    },
    {
      "cell_type": "code",
      "execution_count": 28,
      "metadata": {},
      "outputs": [
        {
          "name": "stdout",
          "output_type": "stream",
          "text": [
            "IoU Background : 0.9945278177246057\n",
            "IoU CSF : 0.7272900266601077\n",
            "IoU WM : 0.8527638624221441\n",
            "IoU GM : 0.8206914443857201\n"
          ]
        }
      ],
      "source": [
        "print(f\"IoU Background : {np.average(np.array(iou_background))}\")\n",
        "print(f\"IoU CSF : {np.average(np.array(iou_csf))}\")\n",
        "print(f\"IoU WM : {np.average(np.array(iou_wm))}\")\n",
        "print(f\"IoU GM : {np.average(np.array(iou_gm))}\")"
      ]
    }
  ],
  "metadata": {
    "accelerator": "GPU",
    "colab": {
      "collapsed_sections": [],
      "name": "Final_ Trial1.ipynb",
      "provenance": []
    },
    "kernelspec": {
      "display_name": "Python 3",
      "name": "python3"
    },
    "language_info": {
      "codemirror_mode": {
        "name": "ipython",
        "version": 3
      },
      "file_extension": ".py",
      "mimetype": "text/x-python",
      "name": "python",
      "nbconvert_exporter": "python",
      "pygments_lexer": "ipython3",
      "version": "3.11.5"
    }
  },
  "nbformat": 4,
  "nbformat_minor": 0
}
