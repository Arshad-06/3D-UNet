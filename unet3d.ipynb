{
  "cells": [
    {
      "cell_type": "markdown",
      "metadata": {
        "id": "HMIG5gOwa-Nb"
      },
      "source": [
        "**Import Libraries**\n"
      ]
    },
    {
      "cell_type": "code",
      "execution_count": 1,
      "metadata": {
        "id": "spA2vbr3a0j7"
      },
      "outputs": [
        {
          "name": "stderr",
          "output_type": "stream",
          "text": [
            "2024-03-04 15:44:03.363429: E external/local_xla/xla/stream_executor/cuda/cuda_dnn.cc:9261] Unable to register cuDNN factory: Attempting to register factory for plugin cuDNN when one has already been registered\n",
            "2024-03-04 15:44:03.363466: E external/local_xla/xla/stream_executor/cuda/cuda_fft.cc:607] Unable to register cuFFT factory: Attempting to register factory for plugin cuFFT when one has already been registered\n",
            "2024-03-04 15:44:03.364753: E external/local_xla/xla/stream_executor/cuda/cuda_blas.cc:1515] Unable to register cuBLAS factory: Attempting to register factory for plugin cuBLAS when one has already been registered\n",
            "2024-03-04 15:44:03.372277: I tensorflow/core/platform/cpu_feature_guard.cc:182] This TensorFlow binary is optimized to use available CPU instructions in performance-critical operations.\n",
            "To enable the following instructions: AVX2 FMA, in other operations, rebuild TensorFlow with the appropriate compiler flags.\n",
            "2024-03-04 15:44:04.347118: W tensorflow/compiler/tf2tensorrt/utils/py_utils.cc:38] TF-TRT Warning: Could not find TensorRT\n"
          ]
        }
      ],
      "source": [
        "import numpy as np\n",
        "import nibabel as nib\n",
        "import matplotlib.pyplot as plt\n",
        "import tensorflow as tf\n",
        "import os\n",
        "from os.path import join, basename\n",
        "import os.path\n",
        "from tensorflow import keras\n",
        "from tensorflow.keras.models import Model\n",
        "from tensorflow.keras.layers import (\n",
        "    Input,\n",
        "    Conv3D,\n",
        "    MaxPooling3D,\n",
        "    UpSampling3D,\n",
        "    concatenate,\n",
        "    Activation,\n",
        ")\n",
        "import cv2"
      ]
    },
    {
      "cell_type": "markdown",
      "metadata": {
        "id": "IEFUu8FjYvaz"
      },
      "source": [
        "**Define Parameters**\n"
      ]
    },
    {
      "cell_type": "code",
      "execution_count": 2,
      "metadata": {
        "id": "eerKWEtxUg_x"
      },
      "outputs": [],
      "source": [
        "FNAME_PATTERN = \"./\"\n",
        "N_VOLUMES = 10\n",
        "IMAGE_SIZE = (256, 128, 256)\n",
        "\n",
        "N_CLASSES = 5\n",
        "N_INPUT_CHANNELS = 1\n",
        "PATCH_SIZE = (64, 64, 64)\n",
        "PATCH_STRIDE = (32, 32, 32)\n",
        "\n",
        "CONTENT_THRESHOLD = 0.3\n",
        "\n",
        "N_EPOCHS = 50\n",
        "BATCH_SIZE = 1\n",
        "PATIENCE = 10\n",
        "MODEL_FNAME_PATTERN = \"unet3d.h5\"\n",
        "OPTIMISER = \"Adam\"\n",
        "LOSS = \"categorical_crossentropy\""
      ]
    },
    {
      "cell_type": "markdown",
      "metadata": {},
      "source": [
        "**Model Definition**\n"
      ]
    },
    {
      "cell_type": "code",
      "execution_count": 3,
      "metadata": {},
      "outputs": [],
      "source": [
        "def get_unet(\n",
        "    img_size=PATCH_SIZE, n_classes=N_CLASSES, n_input_channels=N_INPUT_CHANNELS, scale=1\n",
        "):\n",
        "    inputs = keras.Input(shape=img_size + (n_input_channels,))\n",
        "    # dropout_rate = 0.2\n",
        "    # Encoding path\n",
        "    conv1 = Conv3D(32 * scale, (3, 3, 3), padding=\"same\", activation=\"relu\")(inputs)\n",
        "    conv1 = Conv3D(32 * scale, (3, 3, 3), padding=\"same\", activation=\"relu\")(conv1)\n",
        "    # drop1 = layers.Dropout(rate=dropout_rate)(conv1, training=True)\n",
        "    max1 = MaxPooling3D((2, 2, 2))(conv1)\n",
        "\n",
        "    conv2 = Conv3D(64 * scale, (3, 3, 3), padding=\"same\", activation=\"relu\")(max1)\n",
        "    conv2 = Conv3D(64 * scale, (3, 3, 3), padding=\"same\", activation=\"relu\")(conv2)\n",
        "    # drop2 = layers.Dropout(rate=dropout_rate)(conv2, training=True)\n",
        "    max2 = MaxPooling3D((2, 2, 2))(conv2)\n",
        "\n",
        "    conv3 = Conv3D(128 * scale, (3, 3, 3), padding=\"same\", activation=\"relu\")(max2)\n",
        "    conv3 = Conv3D(128 * scale, (3, 3, 3), padding=\"same\", activation=\"relu\")(conv3)\n",
        "    # drop3 = layers.Dropout(rate=dropout_rate)(conv3, training=True)\n",
        "    max3 = MaxPooling3D((2, 2, 2))(conv3)\n",
        "\n",
        "    lat = Conv3D(256 * scale, (3, 3, 3), padding=\"same\", activation=\"relu\")(max3)\n",
        "\n",
        "    # Decoding path\n",
        "    up1 = UpSampling3D((2, 2, 2))(lat)\n",
        "    concat1 = concatenate([conv3, up1], axis=-1)\n",
        "    conv4 = Conv3D(128 * scale, (3, 3, 3), padding=\"same\", activation=\"relu\")(concat1)\n",
        "    conv4 = Conv3D(128 * scale, (3, 3, 3), padding=\"same\", activation=\"relu\")(conv4)\n",
        "    # drop4 = layers.Dropout(rate=dropout_rate)(conv4, training=True)\n",
        "\n",
        "    up2 = UpSampling3D((2, 2, 2))(conv4)\n",
        "    concat2 = concatenate([conv2, up2], axis=-1)\n",
        "    conv5 = Conv3D(64 * scale, (3, 3, 3), padding=\"same\", activation=\"relu\")(concat2)\n",
        "    conv5 = Conv3D(64 * scale, (3, 3, 3), padding=\"same\", activation=\"relu\")(conv5)\n",
        "    # drop5 = layers.Dropout(rate=dropout_rate)(conv5, training=True)\n",
        "\n",
        "    up3 = UpSampling3D((2, 2, 2))(conv5)\n",
        "    concat3 = concatenate([conv1, up3], axis=-1)\n",
        "    conv6 = Conv3D(32 * scale, (3, 3, 3), padding=\"same\", activation=\"relu\")(concat3)\n",
        "    conv6 = Conv3D(32 * scale, (3, 3, 3), padding=\"same\", activation=\"relu\")(conv6)\n",
        "    # drop6 = layers.Dropout(rate=dropout_rate)(conv6, training=True)\n",
        "\n",
        "    outputs = Conv3D(n_classes, (1, 1, 1), activation=\"softmax\")(conv6)\n",
        "\n",
        "    model = Model(inputs, outputs)\n",
        "\n",
        "    return model"
      ]
    },
    {
      "cell_type": "markdown",
      "metadata": {},
      "source": [
        "**Load Data**\n"
      ]
    },
    {
      "cell_type": "code",
      "execution_count": 4,
      "metadata": {
        "id": "0mnj3JDme9gS"
      },
      "outputs": [],
      "source": [
        "def load_data(n_volumes, image_size, data_path):\n",
        "    data_traces = os.listdir(data_path)\n",
        "    T1_volumes = np.zeros((n_volumes, *image_size, 1))\n",
        "    labels = np.zeros((n_volumes, *image_size, 1))\n",
        "    x = 0\n",
        "    for i in enumerate(data_traces):\n",
        "        print(i[1])\n",
        "\n",
        "        img_data = nib.load(\n",
        "            data_path + \"/\" + f\"{i[1]}\" + \"/\" + f\"{i[1]}_5labels_preprocessed.nii.gz\"\n",
        "        )\n",
        "        # img_data = nib.load(fname_pattern.format(i+1, 'T1'))\n",
        "        T1_volumes[x] = img_data.get_fdata()\n",
        "\n",
        "        seg_data = nib.load(\n",
        "            data_path\n",
        "            + \"/\"\n",
        "            + f\"{i[1]}\"\n",
        "            + \"/\"\n",
        "            + f\"{i[1]}_5labels_preprocessed_seg.nii.gz\"\n",
        "        )\n",
        "        labels[x] = seg_data.get_fdata()\n",
        "        x = x + 1\n",
        "\n",
        "    return (T1_volumes, labels)"
      ]
    },
    {
      "cell_type": "code",
      "execution_count": 5,
      "metadata": {
        "colab": {
          "base_uri": "https://localhost:8080/"
        },
        "id": "_17931FqCqZ6",
        "outputId": "731ffefc-99d3-45e1-82db-ac52912af262"
      },
      "outputs": [
        {
          "name": "stdout",
          "output_type": "stream",
          "text": [
            "IBSR_16\n",
            "IBSR_04\n",
            "IBSR_08\n",
            "IBSR_03\n",
            "IBSR_06\n",
            "IBSR_01\n",
            "IBSR_07\n"
          ]
        }
      ],
      "source": [
        "(training_volumes_T1, training_labels) = load_data(7, IMAGE_SIZE, \"./data/train\")"
      ]
    },
    {
      "cell_type": "code",
      "execution_count": 6,
      "metadata": {
        "colab": {
          "base_uri": "https://localhost:8080/"
        },
        "id": "qbaTRL_Tg5-_",
        "outputId": "3c4177c6-8d70-417d-bc22-797fb8a2cfd0"
      },
      "outputs": [
        {
          "name": "stdout",
          "output_type": "stream",
          "text": [
            "IBSR_18\n",
            "IBSR_09\n",
            "IBSR_05\n"
          ]
        }
      ],
      "source": [
        "(validation_volumes_T1, validation_labels) = load_data(3, IMAGE_SIZE, \"./data/val\")"
      ]
    },
    {
      "cell_type": "code",
      "execution_count": 7,
      "metadata": {
        "colab": {
          "base_uri": "https://localhost:8080/"
        },
        "id": "d2VyXN3ZM-Mv",
        "outputId": "1e903e29-36f6-4c38-9c30-4499820ca71e"
      },
      "outputs": [
        {
          "name": "stdout",
          "output_type": "stream",
          "text": [
            "IBSR_13\n",
            "IBSR_12\n",
            "IBSR_14\n",
            "IBSR_11\n",
            "IBSR_17\n"
          ]
        }
      ],
      "source": [
        "(testing_volumes_T1, testing_labels) = load_data(5, IMAGE_SIZE, \"./data/test\")"
      ]
    },
    {
      "cell_type": "markdown",
      "metadata": {
        "id": "BFDtzyW6FH7x"
      },
      "source": [
        "**Extract Useful Patches**\n"
      ]
    },
    {
      "cell_type": "code",
      "execution_count": 8,
      "metadata": {
        "id": "v4qyfiRaf7n2"
      },
      "outputs": [],
      "source": [
        "def extract_patches(x, patch_size, patch_stride):\n",
        "    spatial_patch_size = [1, *patch_size, 1]\n",
        "    spatial_patch_stride = [1, *patch_stride, 1]\n",
        "\n",
        "    return tf.extract_volume_patches(\n",
        "        x,\n",
        "        ksizes=spatial_patch_size,\n",
        "        strides=spatial_patch_stride,\n",
        "        padding=\"SAME\",\n",
        "        name=None,\n",
        "    )"
      ]
    },
    {
      "cell_type": "code",
      "execution_count": 9,
      "metadata": {
        "id": "nsKNTm-Lf-sb"
      },
      "outputs": [],
      "source": [
        "def extract_useful_patches(\n",
        "    volumes,\n",
        "    labels,\n",
        "    image_size=IMAGE_SIZE,\n",
        "    patch_size=PATCH_SIZE,\n",
        "    stride=PATCH_STRIDE,\n",
        "    threshold=CONTENT_THRESHOLD,\n",
        "    num_classes=N_CLASSES,\n",
        "):\n",
        "    volumes = volumes.reshape([-1, image_size[0], image_size[1], image_size[2], 1])\n",
        "    labels = labels.reshape([-1, image_size[0], image_size[1], image_size[2], 1])\n",
        "    print(volumes.shape)\n",
        "\n",
        "    vol_patches = extract_patches(volumes, patch_size, stride).numpy()\n",
        "    seg_patches = extract_patches(labels, patch_size, stride).numpy()\n",
        "\n",
        "    vol_patches = vol_patches.reshape([-1, *patch_size, 1])\n",
        "    seg_patches = seg_patches.reshape([-1, *patch_size])\n",
        "    print(vol_patches.shape)\n",
        "    print(seg_patches.shape)\n",
        "\n",
        "    foreground_mask = seg_patches != 0\n",
        "\n",
        "    useful_patches = foreground_mask.sum(axis=(1, 2, 3)) > threshold * np.prod(\n",
        "        patch_size\n",
        "    )\n",
        "\n",
        "    vol_patches = vol_patches[useful_patches]\n",
        "    seg_patches = seg_patches[useful_patches]\n",
        "    print(seg_patches.shape[0])\n",
        "\n",
        "    seg_patches = tf.keras.utils.to_categorical(\n",
        "        seg_patches, num_classes=N_CLASSES, dtype=\"float32\"\n",
        "    )\n",
        "\n",
        "    return (vol_patches, seg_patches)"
      ]
    },
    {
      "cell_type": "code",
      "execution_count": null,
      "metadata": {},
      "outputs": [],
      "source": [
        "(training_patches_T1, training_patches_seg) = extract_useful_patches(\n",
        "    training_volumes_T1, training_labels\n",
        ")\n",
        "(validation_patches_T1, validation_patches_seg) = extract_useful_patches(\n",
        "    validation_volumes_T1, validation_labels\n",
        ")"
      ]
    },
    {
      "cell_type": "markdown",
      "metadata": {
        "id": "0K_iI4dHn_yq"
      },
      "source": [
        "**Train Network**\n"
      ]
    },
    {
      "cell_type": "code",
      "execution_count": null,
      "metadata": {
        "colab": {
          "base_uri": "https://localhost:8080/"
        },
        "id": "R31r7MJLwKLr",
        "outputId": "3e6bbb76-9481-4954-9fff-2e1c10c71665"
      },
      "outputs": [],
      "source": [
        "my_callbacks = [\n",
        "    tf.keras.callbacks.EarlyStopping(monitor=\"val_loss\", patience=3),\n",
        "    tf.keras.callbacks.ModelCheckpoint(\n",
        "        filepath=MODEL_FNAME_PATTERN, save_best_only=True\n",
        "    ),\n",
        "]\n",
        "\n",
        "model = get_unet()\n",
        "model.compile(optimizer=OPTIMISER, loss=LOSS)\n",
        "model.fit(\n",
        "    x=training_patches_T1,\n",
        "    y=training_patches_seg,\n",
        "    validation_data=(validation_patches_T1, validation_patches_seg),\n",
        "    batch_size=BATCH_SIZE,\n",
        "    epochs=N_EPOCHS,\n",
        "    callbacks=my_callbacks,\n",
        "    verbose=1,\n",
        ")"
      ]
    },
    {
      "cell_type": "markdown",
      "metadata": {
        "id": "XGcfrZCMjz4M"
      },
      "source": [
        "**Load Best Model**\n"
      ]
    },
    {
      "cell_type": "code",
      "execution_count": 10,
      "metadata": {
        "id": "5fNsYJL7KnON"
      },
      "outputs": [
        {
          "name": "stderr",
          "output_type": "stream",
          "text": [
            "2024-03-04 15:44:27.324989: I tensorflow/core/common_runtime/gpu/gpu_device.cc:1929] Created device /job:localhost/replica:0/task:0/device:GPU:0 with 10065 MB memory:  -> device: 0, name: NVIDIA GeForce GTX 1080 Ti, pci bus id: 0000:05:00.0, compute capability: 6.1\n"
          ]
        }
      ],
      "source": [
        "model = get_unet(\n",
        "    img_size=(IMAGE_SIZE[0], IMAGE_SIZE[1], IMAGE_SIZE[2]),\n",
        "    n_classes=N_CLASSES,\n",
        "    n_input_channels=N_INPUT_CHANNELS,\n",
        ")\n",
        "model.compile(optimizer=OPTIMISER, loss=LOSS)\n",
        "model.load_weights(\"unet3d.h5\")"
      ]
    },
    {
      "cell_type": "code",
      "execution_count": 11,
      "metadata": {
        "id": "U-eEtbOCl185"
      },
      "outputs": [],
      "source": [
        "testing_volumes_T1_processed = testing_volumes_T1.reshape(\n",
        "    [-1, IMAGE_SIZE[0], IMAGE_SIZE[1], IMAGE_SIZE[2], 1]\n",
        ")\n",
        "testing_labels_processed = testing_labels.reshape(\n",
        "    [-1, IMAGE_SIZE[0], IMAGE_SIZE[1], IMAGE_SIZE[2], 1]\n",
        ")\n",
        "\n",
        "testing_labels_processed = tf.keras.utils.to_categorical(\n",
        "    testing_labels_processed, num_classes=5, dtype=\"float32\"\n",
        ")"
      ]
    },
    {
      "cell_type": "markdown",
      "metadata": {
        "id": "xF4ZYcYDqJnN"
      },
      "source": [
        "**Predict Labels For Test Data**\n"
      ]
    },
    {
      "cell_type": "code",
      "execution_count": 12,
      "metadata": {},
      "outputs": [
        {
          "name": "stdout",
          "output_type": "stream",
          "text": [
            "(256, 128, 256, 1)\n"
          ]
        }
      ],
      "source": [
        "print(testing_volumes_T1[0].shape)"
      ]
    },
    {
      "cell_type": "code",
      "execution_count": 13,
      "metadata": {},
      "outputs": [
        {
          "name": "stderr",
          "output_type": "stream",
          "text": [
            "2024-03-04 15:44:34.988112: I external/local_xla/xla/stream_executor/cuda/cuda_dnn.cc:454] Loaded cuDNN version 8906\n"
          ]
        },
        {
          "name": "stdout",
          "output_type": "stream",
          "text": [
            "5/5 [==============================] - 19s 756ms/step\n",
            "(5, 256, 128, 256, 5)\n"
          ]
        }
      ],
      "source": [
        "prediction = model.predict(x=testing_volumes_T1, batch_size=1)\n",
        "print(prediction.shape)\n",
        "\n",
        "# prediction = np.argmax(prediction, axis=3)\n",
        "# print(prediction.shape)\n",
        "# plt.imshow(prediction[128, :, :])"
      ]
    },
    {
      "cell_type": "code",
      "execution_count": 14,
      "metadata": {},
      "outputs": [
        {
          "data": {
            "text/plain": [
              "(256, 128, 256)"
            ]
          },
          "execution_count": 14,
          "metadata": {},
          "output_type": "execute_result"
        }
      ],
      "source": [
        "pred1 = prediction[0]\n",
        "pred1 = np.argmax(pred1, axis=3)\n",
        "pred1.shape"
      ]
    },
    {
      "cell_type": "code",
      "execution_count": 15,
      "metadata": {},
      "outputs": [
        {
          "data": {
            "text/plain": [
              "<matplotlib.image.AxesImage at 0x7fe340406350>"
            ]
          },
          "execution_count": 15,
          "metadata": {},
          "output_type": "execute_result"
        },
        {
          "data": {
            "image/png": "[encoded data removed]",
            "text/plain": [
              "<Figure size 640x480 with 1 Axes>"
            ]
          },
          "metadata": {},
          "output_type": "display_data"
        }
      ],
      "source": [
        "plt.imshow(pred1[128, :, :])"
      ]
    },
    {
      "cell_type": "code",
      "execution_count": 16,
      "metadata": {
        "colab": {
          "base_uri": "https://localhost:8080/",
          "height": 236
        },
        "id": "K_irAeBKv2wk",
        "outputId": "1c9200f8-f241-43c2-b9d8-7eaa374b40f8"
      },
      "outputs": [
        {
          "data": {
            "text/plain": [
              "<matplotlib.image.AxesImage at 0x7fe3404a6ed0>"
            ]
          },
          "execution_count": 16,
          "metadata": {},
          "output_type": "execute_result"
        },
        {
          "data": {
            "image/png": "[encoded data removed]",
            "text/plain": [
              "<Figure size 640x480 with 1 Axes>"
            ]
          },
          "metadata": {},
          "output_type": "display_data"
        }
      ],
      "source": [
        "plt.imshow(np.squeeze(testing_labels[0][128, :, :]))"
      ]
    },
    {
      "cell_type": "markdown",
      "metadata": {},
      "source": [
        "**Dice & IOU Score Evaluation**\n"
      ]
    },
    {
      "cell_type": "code",
      "execution_count": 17,
      "metadata": {
        "id": "zCUtevyd7nKz"
      },
      "outputs": [],
      "source": [
        "def compute_dice_iou(prediction, labels):\n",
        "    prediction = prediction.squeeze()\n",
        "    labels = labels.squeeze()\n",
        "    dice = []\n",
        "    iou = []\n",
        "    for c in np.unique(prediction):\n",
        "        intersection = np.logical_and(prediction == c, labels == c).sum()\n",
        "        sum = (prediction == c).sum() + (labels == c).sum()\n",
        "        union = sum - intersection\n",
        "        dice.append(2 * intersection / sum)\n",
        "        iou.append(intersection / union)\n",
        "    return dice, iou"
      ]
    },
    {
      "cell_type": "code",
      "execution_count": 18,
      "metadata": {
        "colab": {
          "base_uri": "https://localhost:8080/"
        },
        "id": "w00PRjuLhL6n",
        "outputId": "d897e8c4-8283-48ad-dfce-ad082f345ad7"
      },
      "outputs": [
        {
          "name": "stdout",
          "output_type": "stream",
          "text": [
            "[0.9966483523068639, 0.8730096409719496, 0.9148197759376522, 0.8839470731868276] [0.9933190966480353, 0.7746380738561586, 0.843011838635471, 0.7920297075075909]\n",
            "[0.9974544760728526, 0.7445811364967779, 0.9229099846367945, 0.9169036763334972] [0.9949218786251699, 0.5930937937470835, 0.8568550181254628, 0.8465578326677267]\n",
            "[0.9980758032757482, 0.870507107308981, 0.9450344052467912, 0.932058797253929] [0.9961589973961247, 0.7707061398456398, 0.8957964221267953, 0.872762278351338]\n",
            "[0.998265764754161, 0.8575719179689333, 0.931154768924891, 0.9288668802796388] [0.996537534238483, 0.7506572461386789, 0.8711782977113343, 0.8671815511802459]\n",
            "[0.9960109994334543, 0.9038535794269827, 0.9268001644540416, 0.9040972270316667] [0.9920536966753725, 0.8245737635620685, 0.8635858241466834, 0.8249794136233938]\n"
          ]
        }
      ],
      "source": [
        "dice_background = []\n",
        "iou_background = []\n",
        "\n",
        "dice_csf = []\n",
        "iou_csf = []\n",
        "\n",
        "dice_wm = []\n",
        "iou_wm = []\n",
        "dice_gm = []\n",
        "iou_gm = []\n",
        "dices = []\n",
        "ious = []\n",
        "\n",
        "# prediction = model.predict(x=testing_volumes_T1)\n",
        "for i in range(5):\n",
        "\n",
        "    pred = prediction[i]\n",
        "    pred = np.argmax(pred, axis=3)\n",
        "    dices, ious = compute_dice_iou(pred, testing_labels[i])\n",
        "    print(dices, ious)\n",
        "    dice_background.append(dices[0])\n",
        "    dice_csf.append(dices[1])\n",
        "    dice_wm.append(dices[2])\n",
        "    dice_gm.append(dices[3])\n",
        "\n",
        "    iou_background.append(ious[0])\n",
        "    iou_csf.append(ious[1])\n",
        "    iou_wm.append(ious[2])\n",
        "    iou_gm.append(ious[3])"
      ]
    },
    {
      "cell_type": "code",
      "execution_count": 19,
      "metadata": {},
      "outputs": [
        {
          "data": {
            "text/plain": [
              "[0.8730096409719496,\n",
              " 0.7445811364967779,\n",
              " 0.870507107308981,\n",
              " 0.8575719179689333,\n",
              " 0.9038535794269827]"
            ]
          },
          "execution_count": 19,
          "metadata": {},
          "output_type": "execute_result"
        }
      ],
      "source": [
        "dice_csf"
      ]
    },
    {
      "cell_type": "code",
      "execution_count": 20,
      "metadata": {},
      "outputs": [
        {
          "data": {
            "text/plain": [
              "[0.9148197759376522,\n",
              " 0.9229099846367945,\n",
              " 0.9450344052467912,\n",
              " 0.931154768924891,\n",
              " 0.9268001644540416]"
            ]
          },
          "execution_count": 20,
          "metadata": {},
          "output_type": "execute_result"
        }
      ],
      "source": [
        "dice_wm"
      ]
    },
    {
      "cell_type": "code",
      "execution_count": 21,
      "metadata": {},
      "outputs": [
        {
          "data": {
            "text/plain": [
              "[0.8839470731868276,\n",
              " 0.9169036763334972,\n",
              " 0.932058797253929,\n",
              " 0.9288668802796388,\n",
              " 0.9040972270316667]"
            ]
          },
          "execution_count": 21,
          "metadata": {},
          "output_type": "execute_result"
        }
      ],
      "source": [
        "dice_gm"
      ]
    },
    {
      "cell_type": "code",
      "execution_count": 22,
      "metadata": {},
      "outputs": [
        {
          "data": {
            "text/plain": [
              "[0.7746380738561586,\n",
              " 0.5930937937470835,\n",
              " 0.7707061398456398,\n",
              " 0.7506572461386789,\n",
              " 0.8245737635620685]"
            ]
          },
          "execution_count": 22,
          "metadata": {},
          "output_type": "execute_result"
        }
      ],
      "source": [
        "iou_csf"
      ]
    },
    {
      "cell_type": "code",
      "execution_count": 23,
      "metadata": {},
      "outputs": [
        {
          "data": {
            "text/plain": [
              "[0.843011838635471,\n",
              " 0.8568550181254628,\n",
              " 0.8957964221267953,\n",
              " 0.8711782977113343,\n",
              " 0.8635858241466834]"
            ]
          },
          "execution_count": 23,
          "metadata": {},
          "output_type": "execute_result"
        }
      ],
      "source": [
        "iou_wm"
      ]
    },
    {
      "cell_type": "code",
      "execution_count": 24,
      "metadata": {},
      "outputs": [
        {
          "data": {
            "text/plain": [
              "[0.7920297075075909,\n",
              " 0.8465578326677267,\n",
              " 0.872762278351338,\n",
              " 0.8671815511802459,\n",
              " 0.8249794136233938]"
            ]
          },
          "execution_count": 24,
          "metadata": {},
          "output_type": "execute_result"
        }
      ],
      "source": [
        "iou_gm"
      ]
    },
    {
      "cell_type": "code",
      "execution_count": 25,
      "metadata": {
        "colab": {
          "base_uri": "https://localhost:8080/"
        },
        "id": "lfai7Z3RsesD",
        "outputId": "ae4b1876-870a-48a0-f79d-2b490db91f39"
      },
      "outputs": [
        {
          "name": "stdout",
          "output_type": "stream",
          "text": [
            "Dice Background : 0.997291079168616\n",
            "Dice CSF : 0.849904676434725\n",
            "Dice WM : 0.9281438198400341\n",
            "Dice GM : 0.913174730817112\n"
          ]
        }
      ],
      "source": [
        "print(f\"Dice Background : {np.average(np.array(dice_background))}\")\n",
        "print(f\"Dice CSF : {np.average(np.array(dice_csf))}\")\n",
        "print(f\"Dice WM : {np.average(np.array(dice_wm))}\")\n",
        "print(f\"Dice GM : {np.average(np.array(dice_gm))}\")"
      ]
    },
    {
      "cell_type": "code",
      "execution_count": 26,
      "metadata": {},
      "outputs": [
        {
          "name": "stdout",
          "output_type": "stream",
          "text": [
            "IoU Background : 0.994598240716637\n",
            "IoU CSF : 0.7427338034299259\n",
            "IoU WM : 0.8660854801491492\n",
            "IoU GM : 0.8407021566660591\n"
          ]
        }
      ],
      "source": [
        "print(f\"IoU Background : {np.average(np.array(iou_background))}\")\n",
        "print(f\"IoU CSF : {np.average(np.array(iou_csf))}\")\n",
        "print(f\"IoU WM : {np.average(np.array(iou_wm))}\")\n",
        "print(f\"IoU GM : {np.average(np.array(iou_gm))}\")"
      ]
    },
    {
      "cell_type": "code",
      "execution_count": null,
      "metadata": {},
      "outputs": [],
      "source": []
    }
  ],
  "metadata": {
    "accelerator": "GPU",
    "colab": {
      "collapsed_sections": [],
      "name": "Final_ Trial1.ipynb",
      "provenance": []
    },
    "kernelspec": {
      "display_name": "Python 3",
      "name": "python3"
    },
    "language_info": {
      "codemirror_mode": {
        "name": "ipython",
        "version": 3
      },
      "file_extension": ".py",
      "mimetype": "text/x-python",
      "name": "python",
      "nbconvert_exporter": "python",
      "pygments_lexer": "ipython3",
      "version": "3.11.5"
    }
  },
  "nbformat": 4,
  "nbformat_minor": 0
}
